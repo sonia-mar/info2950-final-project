{
 "cells": [
  {
   "cell_type": "markdown",
   "id": "aae5184e",
   "metadata": {},
   "source": [
    "# INFO2950 Final Project"
   ]
  },
  {
   "cell_type": "markdown",
   "id": "078bf798",
   "metadata": {},
   "source": [
    "## Background Information"
   ]
  },
  {
   "cell_type": "markdown",
   "id": "1e95a86d",
   "metadata": {},
   "source": [
    "The pursuit of a college education has consistently been tied to graduates' financial success compared to non-graduates; on average, graduates are 1/2 as likely to be unemployed and have 84% higher income than those whose highest education is a high school diploma. Every year, high school graduates have to decide if the cost of college -- both tuition _and_ being out of the workforce for 4 years -- is worth the financial benefit. On top of the decision to attend, they must choose a major, a decision that could determine the degree of their financial success and the magnitude of benefits reaped from attending college."
   ]
  },
  {
   "cell_type": "markdown",
   "id": "da5044dd",
   "metadata": {},
   "source": [
    "However, this relationship is highly generalized. Not every degree concentration yields the same average financial success as others. For example, a degree in computer science or another form of engineering leads to a job market that has, on average, higher salaries than a degree in English."
   ]
  },
  {
   "cell_type": "markdown",
   "id": "17afcaef",
   "metadata": {},
   "source": [
    "A typical reason why a certain major's salary would be important to a college graduate is that many come to college for upward mobility. College is seen by many as a pathway to a higher financial and social standing as well as a higher quality of life. This extends further than simply their post-graduation salary, but the mean income of the location in which they live, as quality of life is largely affected by the wealth of those around you, as it impacts the opportunities available, public school funding, health, and much more. Perhaps the mean income of postgraduates' region of residence indicates the degree of their major's impact on their financial success and quality of life."
   ]
  },
  {
   "cell_type": "markdown",
   "id": "5ff82219",
   "metadata": {},
   "source": [
    "Thus, we are interested in exploring the relationship between the college major of a college postgraduate and the wealth of their county of residence. We decided we were most interested in exploring this relationship within New York State, where there is a _dramatic_ wealth gap between its most affluent regions (for example, New York City) versus its most poor regions; in fact, New York was recognized as the state with the highest gap between the rich and the poor, with a Gini coefficient score in 2022 of 0.52."
   ]
  },
  {
   "cell_type": "markdown",
   "id": "f3c22011",
   "metadata": {},
   "source": [
    "\n",
    "## Research Question"
   ]
  },
  {
   "cell_type": "markdown",
   "id": "49af95f3",
   "metadata": {},
   "source": [
    "Question: Can we reliably predict a New York county's wealth based on their percentage of postgraduates of a certain age and major?\n",
    "\n",
    "At the conclusion of this project, we seek to determine if there is a correlation between college major and the per capita income of the postgraduate county of residence in New York, and age and the per capita income of the postgraduate county of residence in New York. We will train a multivariable regression on data tables from both Wikepedia and the U.S. Census Bureau to see if we can reliably predict a county's per capita income given the population percentages of Science and Engineering, Business, Education, and Arts, Humanities, and Others for each of these age groups: 25-39 years, 40-64 years, and 65 years and over. Essentially, we aim to determine if college major and age affects the average wealth of where people live.\n",
    "\n",
    "We defined county wealth using per capita income of the county and we solely considered New York counties for our regression. We defined postgraduates as people holding a Bachelor's degree older than 25 years old. "
   ]
  },
  {
   "cell_type": "markdown",
   "id": "2b209e5b",
   "metadata": {},
   "source": [
    "## Original Data Description"
   ]
  },
  {
   "cell_type": "markdown",
   "id": "5807a486",
   "metadata": {},
   "source": [
    "We have two data tables from the U.S. Census Bureau and Wikepedia. \n",
    "\n",
    "Our data from Wikepedia:\n",
    "https://en.wikipedia.org/wiki/List_of_New_York_locations_by_per_capita_income.\n",
    "\n",
    "- Each row (observation) is a New York State county\n",
    "- There are two columns (attributes) and they are: the county name and the county's per capita income. Before we copy-pasted it, the original dataframe on the website had additional columns for median household income, median family income, population, and number of households. We omitted these columns because they did not serve a purpose in our regression\n",
    "- This dataset was created by Wikepedia to inform the public of the income per capita of each county in New York State\n",
    "- The data is originally from the 2010 United States Census Data and the 2006-2010 American Community Survey 5-Year Estimates. The data from the Census is created, funded, and collected by the United States government for the purposes of better understanding the demographics of the country and informing policy\n",
    "- Since this was a survey, the process of a voluntary survey may have influenced which data was actually gathered, since some may have declined to share their data or others may not have been within reach of or had access to the survey\n",
    "- Those who participated were aware their data was going to be used for analyzing demographics\n",
    "- We collected this data through copying and pasting the data into an Excel sheet and downloading it as a .csv file\n",
    "\n",
    "Our data from the U.S. Census Bureau: https://data.census.gov/table/ACSST1Y2022.S1502?g=040XX00US36,36 using New York State (as a whole) and all New York Counties as filters for their data set, created in 2022.\n",
    "\n",
    "- The rows (observations) each represented one person surveyed, categorized by age range and college major.\n",
    "- The columns (attributes) are described below:\n",
    "    - The first column houses the labels of groups of people by age and college major; the following columns pre- data cleaning have each county and the general state's estimate of people falling into each category, the margin of error, percent estimate, percent error, male estimate, male margin of error, male percent estimate, male percent margin of error, female estimate, female margin of error, female percent estimate, and female percent margin of error\n",
    "- This dataset was created to gather information about the residents of the United States to better understand the demographics of the country and created more informed policy\n",
    "- This data was created, funded, and collected by the government of the United States as a part of the Census, a large survey taken every 10 years\n",
    "- Those who participated in the Census were aware that their data was being used to better understand demographics\n",
    "- Since this was a survey, the process of a voluntary survey may have influenced which data was actually gathered, since some may have declined to share their data or been without access to complete the survey\n",
    "- There are 5 rows and 469 columns, full of numerical data. No information is missing and the data is self-contained. The data identifies subpopulations by age and gender. Age is used to further divide the groups of majors and gender is used to divide each county's data\n",
    "- This data was accessed using filters to narrow down the dataset to the variables: age, college major, and county"
   ]
  },
  {
   "cell_type": "markdown",
   "id": "0db55d74",
   "metadata": {},
   "source": [
    "## Data Cleaning and Collection"
   ]
  },
  {
   "cell_type": "markdown",
   "id": "d82008df",
   "metadata": {},
   "source": [
    "### Importing packages"
   ]
  },
  {
   "cell_type": "code",
   "execution_count": 1,
   "id": "3e815666",
   "metadata": {},
   "outputs": [
    {
     "ename": "ModuleNotFoundError",
     "evalue": "No module named 'duckdb'",
     "output_type": "error",
     "traceback": [
      "\u001b[0;31m---------------------------------------------------------------------------\u001b[0m",
      "\u001b[0;31mModuleNotFoundError\u001b[0m                       Traceback (most recent call last)",
      "Cell \u001b[0;32mIn[1], line 9\u001b[0m\n\u001b[1;32m      7\u001b[0m \u001b[38;5;28;01mimport\u001b[39;00m \u001b[38;5;21;01mseaborn\u001b[39;00m \u001b[38;5;28;01mas\u001b[39;00m \u001b[38;5;21;01msns\u001b[39;00m\n\u001b[1;32m      8\u001b[0m \u001b[38;5;28;01mimport\u001b[39;00m \u001b[38;5;21;01mmatplotlib\u001b[39;00m\u001b[38;5;21;01m.\u001b[39;00m\u001b[38;5;21;01mpyplot\u001b[39;00m \u001b[38;5;28;01mas\u001b[39;00m \u001b[38;5;21;01mplt\u001b[39;00m\n\u001b[0;32m----> 9\u001b[0m \u001b[38;5;28;01mimport\u001b[39;00m \u001b[38;5;21;01mduckdb\u001b[39;00m\n",
      "\u001b[0;31mModuleNotFoundError\u001b[0m: No module named 'duckdb'"
     ]
    }
   ],
   "source": [
    "import requests\n",
    "from bs4 import BeautifulSoup\n",
    "\n",
    "import pandas as pd\n",
    "import numpy as np\n",
    "import time\n",
    "import seaborn as sns\n",
    "import matplotlib.pyplot as plt\n",
    "import duckdb"
   ]
  },
  {
   "cell_type": "markdown",
   "id": "3b2c5980",
   "metadata": {},
   "source": [
    "### Data cleaning: selecting and extracting the relevant columns of U.S. Census Bureau data table and renaming columns"
   ]
  },
  {
   "cell_type": "markdown",
   "id": "e033d388",
   "metadata": {},
   "source": [
    "Read the .csv file:"
   ]
  },
  {
   "cell_type": "code",
   "execution_count": null,
   "id": "5024d930",
   "metadata": {},
   "outputs": [],
   "source": [
    "census_majors = pd.read_csv(\"nys_counties_college.csv\")\n",
    "census_majors.columns = census_majors.columns.str.replace(\n",
    "    \"    \", \"\")"
   ]
  },
  {
   "cell_type": "markdown",
   "id": "49455a75",
   "metadata": {},
   "source": [
    "Below, we see that there are many columns that are not relevant to our research question. We are only interested in each county's percent estimate column."
   ]
  },
  {
   "cell_type": "code",
   "execution_count": null,
   "id": "73cb6f01",
   "metadata": {},
   "outputs": [],
   "source": [
    "print(census_majors.head())"
   ]
  },
  {
   "cell_type": "markdown",
   "id": "a72a8f31",
   "metadata": {},
   "source": [
    "Below, we are replacing the !!s and the spaces with an underscore, then selecting the relevant columns which have each county's total percentage (not including the columns regarding margin or error, total estimate, NYS as a whole, or Male/Female specific columns). There were a lot of columns to be dropped (more than half), so after trying to use .drop(), a TA helped us realize we should just extract the columns of interest and put it into a new dataframe, which we called census_majors_cleaned. We then rename the suffix of each column, _New_York_Percent_Estimate, to County so that we have [name] County as each column's name, so the column names are consistent with the County column of the Wikepedia dataframe."
   ]
  },
  {
   "cell_type": "code",
   "execution_count": null,
   "id": "191f260d",
   "metadata": {},
   "outputs": [],
   "source": [
    "census_majors.columns = census_majors.columns.str.replace(\n",
    "    \"!!\", \"_\")\n",
    "census_majors.columns = census_majors.columns.str.replace(\n",
    "    \" \", \"_\")\n",
    "#Checking that the column names are correct\n",
    "display(census_majors)"
   ]
  },
  {
   "cell_type": "code",
   "execution_count": null,
   "id": "fb941249",
   "metadata": {
    "scrolled": true
   },
   "outputs": [],
   "source": [
    "census_majors_cleaned = census_majors[[\n",
    "'Label_(Grouping)', 'Albany_County,_New_York_Percent_Estimate',\n",
    "'Bronx_County,_New_York_Percent_Estimate',\n",
    "'Broome_County,_New_York_Percent_Estimate',\n",
    "'Cattaraugus_County,_New_York_Percent_Estimate',\n",
    "'Cayuga_County,_New_York_Percent_Estimate',\n",
    "'Chautauqua_County,_New_York_Percent_Estimate',\n",
    "'Chemung_County,_New_York_Percent_Estimate',\n",
    "'Clinton_County,_New_York_Percent_Estimate',\n",
    "'Dutchess_County,_New_York_Percent_Estimate',\n",
    "'Erie_County,_New_York_Percent_Estimate',\n",
    "'Jefferson_County,_New_York_Percent_Estimate',\n",
    "'Kings_County,_New_York_Percent_Estimate',\n",
    "'Madison_County,_New_York_Percent_Estimate',\n",
    "'Monroe_County,_New_York_Percent_Estimate',\n",
    "'Nassau_County,_New_York_Percent_Estimate',\n",
    "'New_York_County,_New_York_Percent_Estimate',\n",
    "'Niagara_County,_New_York_Percent_Estimate',\n",
    "'Oneida_County,_New_York_Percent_Estimate',\n",
    "'Onondaga_County,_New_York_Percent_Estimate',\n",
    "'Ontario_County,_New_York_Percent_Estimate',\n",
    "'Orange_County,_New_York_Percent_Estimate',\n",
    "'Oswego_County,_New_York_Percent_Estimate',\n",
    "'Putnam_County,_New_York_Percent_Estimate',\n",
    "'Queens_County,_New_York_Percent_Estimate',\n",
    "'Rensselaer_County,_New_York_Percent_Estimate',\n",
    "'Richmond_County,_New_York_Percent_Estimate',\n",
    "'Rockland_County,_New_York_Percent_Estimate',\n",
    "'St._Lawrence_County,_New_York_Percent_Estimate',\n",
    "'Saratoga_County,_New_York_Percent_Estimate',\n",
    "'Schenectady_County,_New_York_Percent_Estimate',\n",
    "'Steuben_County,_New_York_Percent_Estimate',\n",
    "'Suffolk_County,_New_York_Percent_Estimate',\n",
    "'Sullivan_County,_New_York_Percent_Estimate',\n",
    "'Tompkins_County,_New_York_Percent_Estimate',\n",
    "'Ulster_County,_New_York_Percent_Estimate',\n",
    "'Warren_County,_New_York_Percent_Estimate',\n",
    "'Wayne_County,_New_York_Percent_Estimate',\n",
    "'Westchester_County,_New_York_Percent_Estimate',\n",
    "]]\n",
    "#Confidence check: does the dataframe have the columns we want?\n",
    "display(census_majors_cleaned)"
   ]
  },
  {
   "cell_type": "code",
   "execution_count": null,
   "id": "39999c68",
   "metadata": {},
   "outputs": [],
   "source": [
    "#Getting rid of added title (we just want the county name + \"County\")\n",
    "census_majors_cleaned.columns = census_majors_cleaned.columns.str.replace(\n",
    "    \",_New_York_Percent_Estimate\", \"\")\n",
    "#Changing the _s to a space for more familiar names \n",
    "#(underscore is less familiar to us)\n",
    "census_majors_cleaned.columns = census_majors_cleaned.columns.str.replace(\n",
    "    \"_\", \" \")\n",
    "#Setting the index to be the majors so when we transpose the dataframe,\n",
    "#the columns will be named with the majors\n",
    "census_majors_cleaned.set_index('Label (Grouping)', inplace=True)\n",
    "#Checking to make sure the dataframe has the index we want\n",
    "display(census_majors_cleaned)"
   ]
  },
  {
   "cell_type": "markdown",
   "id": "36c6f57a",
   "metadata": {},
   "source": [
    "We want to merge this data with the Wikepedia data, so we will align the county names as rows because a taller dataframe is better for regressions. We will use .transpose() to switch the columns and the rows of the cleaned census data. After performing that, we realized we have to set the index to our \"Label (Grouping)\" column, so we used set_index() above the transpose() command (in the cell above) so we could set the right column to be the index"
   ]
  },
  {
   "cell_type": "code",
   "execution_count": null,
   "id": "d67f9b7f",
   "metadata": {},
   "outputs": [],
   "source": [
    "census_majors_cleaned = census_majors_cleaned.transpose()\n",
    "display(census_majors_cleaned)"
   ]
  },
  {
   "cell_type": "markdown",
   "id": "d8cf9fc7",
   "metadata": {},
   "source": [
    "Now we have to create an index for the rows, because we want the county to be a column rather than an index, since we cannot use a County index like we would with a column as a key when merging dataframes."
   ]
  },
  {
   "cell_type": "code",
   "execution_count": null,
   "id": "bb21a3aa",
   "metadata": {},
   "outputs": [],
   "source": [
    "census_majors_cleaned.reset_index(inplace=True)\n",
    "census_majors_cleaned.rename(\n",
    "    columns = {'index':'County'}, inplace = True)\n",
    "display(census_majors_cleaned)"
   ]
  },
  {
   "cell_type": "markdown",
   "id": "b98fed74",
   "metadata": {},
   "source": [
    "Now we are ready to split this data into other subgroups and merge that data with the Wikepedia data!\n",
    "Note: we know we have NaNs in our dataframe, but we will solely be using this dataframe to extract columns from, so we will be \"cleaning\" the NaNs out by not using those columns (since the columns of NaNs serve to show which columns are for which age)"
   ]
  },
  {
   "cell_type": "markdown",
   "id": "dc7255ab",
   "metadata": {},
   "source": [
    "### Data collection: web scraping from Wikepedia's \"List of New York locations by per capita\":"
   ]
  },
  {
   "cell_type": "markdown",
   "id": "1fc14bc1",
   "metadata": {},
   "source": [
    "We attempted to data scrape the Wikepedia website, but we were unsuccessful because the < tr > tags that contained the data we were trying to scrape did not have a class associated with them, and TAs we consulted recommended manually pasting the data into an Excel spreadsheet and downloading it as a .csv file instead. Below, you will find our initial web scraping process, from saving the url to opening the html file up to where we realized there was no clear way to scrape without a class in the < tr > tag. "
   ]
  },
  {
   "cell_type": "code",
   "execution_count": null,
   "id": "11ccf6c5",
   "metadata": {},
   "outputs": [],
   "source": [
    "wikepedia_url = \"https://en.wikipedia.org/wiki/List_of_New_York_locations_by_per_capita_income\""
   ]
  },
  {
   "cell_type": "code",
   "execution_count": null,
   "id": "83f70e5f",
   "metadata": {},
   "outputs": [],
   "source": [
    "wikepedia_result = requests.get(wikepedia_url)"
   ]
  },
  {
   "cell_type": "code",
   "execution_count": null,
   "id": "f0ea2763",
   "metadata": {},
   "outputs": [],
   "source": [
    "with open(\"county_wealth.html\", \"w\") as writer:\n",
    "    writer.write(wikepedia_result.text)"
   ]
  },
  {
   "cell_type": "code",
   "execution_count": null,
   "id": "1447abd6",
   "metadata": {},
   "outputs": [],
   "source": [
    "with open(\"county_wealth.html\", \"r\") as reader:\n",
    "    html_source = reader.read()"
   ]
  },
  {
   "cell_type": "code",
   "execution_count": null,
   "id": "8bbb0edc",
   "metadata": {},
   "outputs": [],
   "source": [
    "# Confidence check\n",
    "html_source[:20]"
   ]
  },
  {
   "cell_type": "code",
   "execution_count": null,
   "id": "714ba242",
   "metadata": {},
   "outputs": [],
   "source": [
    "page = BeautifulSoup(html_source, \"html.parser\")"
   ]
  },
  {
   "cell_type": "markdown",
   "id": "62449c17",
   "metadata": {},
   "source": [
    "Below, you will find that there are no classes in the < tr > tags that we scraped."
   ]
  },
  {
   "cell_type": "code",
   "execution_count": null,
   "id": "99c959db",
   "metadata": {},
   "outputs": [],
   "source": [
    "wikepedia_county_income = page.find(\"table\", \n",
    "                                    {\"class\": \"wikitable\"})\n",
    "wikepedia_county_income = wikepedia_county_income.find_next(\n",
    "    'tbody').find_all('tr')\n",
    "print(wikepedia_county_income)"
   ]
  },
  {
   "cell_type": "markdown",
   "id": "15f86575",
   "metadata": {},
   "source": [
    "### Data collection: Excel and downloading the Wikepedia table"
   ]
  },
  {
   "cell_type": "markdown",
   "id": "1e9d5275",
   "metadata": {},
   "source": [
    "Thus, we manually copy-pasted the Wikepedia data into Excel and downloaded that file as a .csv"
   ]
  },
  {
   "cell_type": "code",
   "execution_count": null,
   "id": "573b9444",
   "metadata": {},
   "outputs": [],
   "source": [
    "county_wealth = pd.read_csv(\"county_wealth.csv\")\n",
    "display(county_wealth)"
   ]
  },
  {
   "cell_type": "markdown",
   "id": "1e3a7a23",
   "metadata": {},
   "source": [
    "### Data Cleaning: Adding \"County\" to the county names in county_wealth"
   ]
  },
  {
   "cell_type": "markdown",
   "id": "946138e2",
   "metadata": {},
   "source": [
    "To perform an inner join on the tables, we have to rename each row of the \"County\" column of county_wealth, since the county name does not have \"county\" after it, as it does in census_majors' county columns."
   ]
  },
  {
   "cell_type": "code",
   "execution_count": null,
   "id": "d8e0caeb",
   "metadata": {},
   "outputs": [],
   "source": [
    "county_wealth['County'] = county_wealth['County'] + ' County'\n",
    "county_wealth['County'].iloc[[0]] = 'New York County'\n",
    "display(county_wealth)"
   ]
  },
  {
   "cell_type": "markdown",
   "id": "5ede349e",
   "metadata": {},
   "source": [
    "We also have to change the Per capita income column values from strings to integers."
   ]
  },
  {
   "cell_type": "code",
   "execution_count": null,
   "id": "3302a54d",
   "metadata": {},
   "outputs": [],
   "source": [
    "#Get rid of the commas and extra spaces in the values \n",
    "#so they can be converted to integers\n",
    "county_wealth['Per capita income'] = county_wealth[\n",
    "    'Per capita income'].str.replace('  ,', '')\n",
    "county_wealth['Per capita income'] = county_wealth[\n",
    "    'Per capita income'].str.replace(', ', '')\n",
    "#Convert to int\n",
    "county_wealth['Per capita income'] = county_wealth[\n",
    "    'Per capita income'].astype(int)\n",
    "#Confidence check - print the type of the column \n",
    "#and display the dataframe\n",
    "print(county_wealth['Per capita income'].dtypes)\n",
    "display(county_wealth)"
   ]
  },
  {
   "cell_type": "markdown",
   "id": "816f3ac6",
   "metadata": {},
   "source": [
    "### Data cleaning: splitting census data"
   ]
  },
  {
   "cell_type": "markdown",
   "id": "37900179",
   "metadata": {},
   "source": [
    "Here we are splitting the data into two subsets:\n",
    "- One dataframe where the age is disregarded and all of the ages are compiled into one major, so that there is one value for each major (ageless_majors)\n",
    "- Three dataframes where each age is displayed in full on its own (young_majors, middle_majors, old_majors)\n",
    "\n",
    "After we create these, we display each dataframe and then merge it with the wikepedia dataframe. We want to merge this via a left join to combine the data unique to each individual dataframe being joined so we can look at specific age's majors' impact on county income per capita. "
   ]
  },
  {
   "cell_type": "code",
   "execution_count": null,
   "id": "39d986c7",
   "metadata": {},
   "outputs": [],
   "source": [
    "#create the census dataframe for all ages (columns 1 - 6)\n",
    "only_census_total = census_majors_cleaned.iloc[:, 1: 7]\n",
    "#Drop the NaN column from the only_census_total dataframe \n",
    "#to create the no-NaN ageless_majors dataframe\n",
    "ageless_majors = only_census_total.drop(columns=[\n",
    "\"Total population 25 years and over with a Bachelor's degree or higher\"])\n",
    "#Add the County column\n",
    "ageless_majors['County'] = census_majors_cleaned['County']\n",
    "#Confidence check\n",
    "display(ageless_majors)"
   ]
  },
  {
   "cell_type": "code",
   "execution_count": null,
   "id": "e2e0f74f",
   "metadata": {},
   "outputs": [],
   "source": [
    "#create the census dataframe for only ages 25-39 \n",
    "#(columns 9 - 13)\n",
    "young_majors = census_majors_cleaned.iloc[:, 9:14]\n",
    "#Add the County column\n",
    "young_majors['County'] = census_majors_cleaned['County']\n",
    "#Confidence check\n",
    "display(young_majors)"
   ]
  },
  {
   "cell_type": "code",
   "execution_count": null,
   "id": "8bbcbb08",
   "metadata": {},
   "outputs": [],
   "source": [
    "#create census dataframe only for ages 40-64 \n",
    "#(columns 15 - 19)\n",
    "middle_majors = census_majors_cleaned.iloc[:, 15:20]\n",
    "#Add the County column\n",
    "middle_majors['County'] = census_majors_cleaned[\n",
    "    'County']\n",
    "#Confidence check\n",
    "display(middle_majors)"
   ]
  },
  {
   "cell_type": "code",
   "execution_count": null,
   "id": "25a360aa",
   "metadata": {},
   "outputs": [],
   "source": [
    "#create census dataframe for only ages 65+ \n",
    "#(columns 21 - 25)\n",
    "old_majors = census_majors_cleaned.iloc[:, 21:26]\n",
    "#Add County column\n",
    "old_majors['County'] = census_majors_cleaned[\n",
    "    'County']\n",
    "#Confidence check\n",
    "display(old_majors)"
   ]
  },
  {
   "cell_type": "markdown",
   "id": "db7926ea",
   "metadata": {},
   "source": [
    "### Data cleaning: merging dataframes"
   ]
  },
  {
   "cell_type": "markdown",
   "id": "76672088",
   "metadata": {},
   "source": [
    "We want to merge our cleaned census dataframe with our Wikepedia dataframe for comparison purposes. We will use a LEFT JOIN on the county key, because both dataframes have a county column that we have ensured has shared values. The Wikipedia data has more counties in its County column than the census's County column, but the join will ensure that the resulting merged dataframes will only have the shared counties. We will do this for census_majors_cleaned (the cleaned version of the original census dataframe), ageless_majors, and the three age-specific dataframes (young_majors, middle_majors, and old_majors)."
   ]
  },
  {
   "cell_type": "code",
   "execution_count": null,
   "id": "a27eea45",
   "metadata": {},
   "outputs": [],
   "source": [
    "#Merge the whole census_majors_cleaned \n",
    "#dataframe with the county_wealth (Wikepedia) dataframe\n",
    "merged_df = county_wealth.merge(\n",
    "    census_majors_cleaned, \n",
    "    left_on='County', right_on ='County')\n",
    "display(merged_df)"
   ]
  },
  {
   "cell_type": "markdown",
   "id": "614e477b",
   "metadata": {},
   "source": [
    "Here we will merge the non-age-specific dataframe with the county_wealth dataframe."
   ]
  },
  {
   "cell_type": "code",
   "execution_count": null,
   "id": "102ef686",
   "metadata": {},
   "outputs": [],
   "source": [
    "ageless_merged_df = county_wealth.merge(\n",
    "    ageless_majors, left_on='County', \n",
    "    right_on ='County')\n",
    "display(ageless_merged_df)"
   ]
  },
  {
   "cell_type": "markdown",
   "id": "e53bcb88",
   "metadata": {},
   "source": [
    "We also merged each of the age-specific data frames with the county_wealth dataframe."
   ]
  },
  {
   "cell_type": "code",
   "execution_count": null,
   "id": "a6365811",
   "metadata": {},
   "outputs": [],
   "source": [
    "young_merged_df = county_wealth.merge(\n",
    "    young_majors, left_on='County', \n",
    "    right_on ='County')\n",
    "display(young_merged_df)"
   ]
  },
  {
   "cell_type": "code",
   "execution_count": null,
   "id": "08116cd1",
   "metadata": {},
   "outputs": [],
   "source": [
    "middle_merged_df = county_wealth.merge(\n",
    "    middle_majors, left_on='County', \n",
    "    right_on ='County')\n",
    "display(middle_merged_df)"
   ]
  },
  {
   "cell_type": "code",
   "execution_count": null,
   "id": "d1374c68",
   "metadata": {
    "scrolled": true
   },
   "outputs": [],
   "source": [
    "old_merged_df = county_wealth.merge(\n",
    "    old_majors, left_on='County', \n",
    "    right_on ='County')\n",
    "display(old_merged_df)"
   ]
  },
  {
   "cell_type": "markdown",
   "id": "888f067b",
   "metadata": {},
   "source": [
    "Lastly, we will get rid of the percent signs for the county's college major data and convert the strings into floats. We will do this for every merged dataframe so that we can run regressions and compute functions on the percentage data."
   ]
  },
  {
   "cell_type": "markdown",
   "id": "cfc04ee1",
   "metadata": {},
   "source": [
    "We will start by getting rid of the %s in the ageless_majors dataframe by replacing the % for each column:"
   ]
  },
  {
   "cell_type": "code",
   "execution_count": null,
   "id": "1dd4bd19",
   "metadata": {},
   "outputs": [],
   "source": [
    "ageless_merged_df['Science and Engineering'] = ageless_merged_df[\n",
    "    'Science and Engineering'].str.replace('%', '')\n",
    "ageless_merged_df['Science and Engineering'] = ageless_merged_df[\n",
    "    'Science and Engineering'].astype(float)\n",
    "ageless_merged_df['Science and Engineering Related Fields'\n",
    "                 ] = ageless_merged_df[\n",
    "    'Science and Engineering Related Fields'].str.replace('%', '')\n",
    "ageless_merged_df['Science and Engineering Related Fields'\n",
    "                 ] = ageless_merged_df[\n",
    "    'Science and Engineering Related Fields'].astype(float)\n",
    "ageless_merged_df['Business'] = ageless_merged_df[\n",
    "    'Business'].str.replace('%', '')\n",
    "ageless_merged_df['Business'] = ageless_merged_df[\n",
    "    'Business'].astype(float)\n",
    "ageless_merged_df['Education'] = ageless_merged_df[\n",
    "    'Education'].str.replace('%', '')\n",
    "ageless_merged_df['Education'] = ageless_merged_df[\n",
    "    'Education'].astype(float)\n",
    "ageless_merged_df['Arts, Humanities and Others'\n",
    "] = ageless_merged_df['Arts, Humanities and Others'\n",
    "                     ].str.replace('%', '')\n",
    "ageless_merged_df['Arts, Humanities and Others'\n",
    "] = ageless_merged_df['Arts, Humanities and Others'\n",
    "                     ].astype(float)\n",
    "#Confidence check\n",
    "print(ageless_merged_df[\n",
    "    'Science and Engineering'].dtypes)\n",
    "display(ageless_merged_df)"
   ]
  },
  {
   "cell_type": "markdown",
   "id": "1f481ab5",
   "metadata": {},
   "source": [
    "And now we will do the same to the three age-divided dataframes by replacing the % for each column in each dataframe:"
   ]
  },
  {
   "cell_type": "code",
   "execution_count": null,
   "id": "4777e51b",
   "metadata": {},
   "outputs": [],
   "source": [
    "young_merged_df['Science and Engineering'] = young_merged_df[\n",
    "    'Science and Engineering'].str.replace('%', '')\n",
    "young_merged_df['Science and Engineering'] = young_merged_df[\n",
    "    'Science and Engineering'].astype(float)\n",
    "young_merged_df[\n",
    "    'Science and Engineering Related Fields'\n",
    "] = young_merged_df[\n",
    "    'Science and Engineering Related Fields'\n",
    "].str.replace('%', '')\n",
    "young_merged_df[\n",
    "    'Science and Engineering Related Fields'\n",
    "] = young_merged_df[\n",
    "    'Science and Engineering Related Fields'\n",
    "].astype(float)\n",
    "young_merged_df['Business'] = young_merged_df[\n",
    "    'Business'].str.replace('%', '')\n",
    "young_merged_df['Business'] = young_merged_df[\n",
    "    'Business'].astype(float)\n",
    "young_merged_df['Education'] = young_merged_df[\n",
    "    'Education'].str.replace('%', '')\n",
    "young_merged_df['Education'] = young_merged_df[\n",
    "    'Education'].astype(float)\n",
    "young_merged_df['Arts, Humanities and Others'\n",
    "] = young_merged_df['Arts, Humanities and Others'\n",
    "].str.replace('%', '')\n",
    "young_merged_df['Arts, Humanities and Others'\n",
    "] = young_merged_df['Arts, Humanities and Others'\n",
    "                   ].astype(float)\n",
    "#Confidence check\n",
    "print(young_merged_df['Science and Engineering'\n",
    "                     ].dtypes)\n",
    "display(young_merged_df)"
   ]
  },
  {
   "cell_type": "code",
   "execution_count": null,
   "id": "47d74c7a",
   "metadata": {},
   "outputs": [],
   "source": [
    "middle_merged_df['Science and Engineering'\n",
    "] = middle_merged_df['Science and Engineering'\n",
    "                    ].str.replace('%', '')\n",
    "middle_merged_df['Science and Engineering'\n",
    "] = middle_merged_df['Science and Engineering'\n",
    "                    ].astype(float)\n",
    "middle_merged_df['Science and Engineering Related Fields'\n",
    "] = middle_merged_df['Science and Engineering Related Fields'\n",
    "                    ].str.replace('%', '')\n",
    "middle_merged_df['Science and Engineering Related Fields'\n",
    "] = middle_merged_df['Science and Engineering Related Fields'\n",
    "                    ].astype(float)\n",
    "middle_merged_df['Business'\n",
    "] = middle_merged_df['Business'].str.replace('%', '')\n",
    "middle_merged_df['Business'\n",
    "] = middle_merged_df['Business'].astype(float)\n",
    "middle_merged_df['Education'\n",
    "] = middle_merged_df['Education'].str.replace('%', '')\n",
    "middle_merged_df['Education'\n",
    "] = middle_merged_df['Education'].astype(float)\n",
    "middle_merged_df['Arts, Humanities and Others'\n",
    "] = middle_merged_df['Arts, Humanities and Others'\n",
    "                    ].str.replace('%', '')\n",
    "middle_merged_df['Arts, Humanities and Others'\n",
    "] = middle_merged_df['Arts, Humanities and Others'\n",
    "            ].astype(float)\n",
    "#Confidence check\n",
    "print(middle_merged_df['Science and Engineering'\n",
    "                      ].dtypes)\n",
    "display(middle_merged_df)"
   ]
  },
  {
   "cell_type": "code",
   "execution_count": null,
   "id": "25d42235",
   "metadata": {},
   "outputs": [],
   "source": [
    "old_merged_df['Science and Engineering'] = old_merged_df[\n",
    "    'Science and Engineering'].str.replace('%', '')\n",
    "old_merged_df['Science and Engineering'] = old_merged_df[\n",
    "    'Science and Engineering'].astype(float)\n",
    "old_merged_df['Science and Engineering Related Fields'\n",
    "] = old_merged_df['Science and Engineering Related Fields'\n",
    "                 ].str.replace('%', '')\n",
    "old_merged_df['Science and Engineering Related Fields'\n",
    "] = old_merged_df['Science and Engineering Related Fields'\n",
    "                 ].astype(float)\n",
    "old_merged_df['Business'\n",
    "] = old_merged_df['Business'].str.replace('%', '')\n",
    "old_merged_df['Business'] = old_merged_df[\n",
    "'Business'].astype(float)\n",
    "old_merged_df['Education'] = old_merged_df['Education'\n",
    "                        ].str.replace('%', '')\n",
    "old_merged_df['Education'] = old_merged_df[\n",
    "    'Education'].astype(float)\n",
    "old_merged_df['Arts, Humanities and Others'\n",
    "] = old_merged_df['Arts, Humanities and Others'\n",
    "                 ].str.replace('%', '')\n",
    "old_merged_df['Arts, Humanities and Others'\n",
    "] = old_merged_df['Arts, Humanities and Others'\n",
    "                 ].astype(float)\n",
    "#Confidence check\n",
    "print(old_merged_df['Science and Engineering'\n",
    "                   ].dtypes)\n",
    "display(old_merged_df)"
   ]
  },
  {
   "cell_type": "markdown",
   "id": "928d3871",
   "metadata": {},
   "source": [
    "Now the merged dataframes are ready for our exploratory data analysis!"
   ]
  },
  {
   "cell_type": "markdown",
   "id": "54d528e1",
   "metadata": {},
   "source": [
    "## Exploratory Data Analysis"
   ]
  },
  {
   "cell_type": "markdown",
   "id": "9c5533cd",
   "metadata": {},
   "source": [
    "We will begin by performing general analysis and visualization on the larger, more overarching index_county dataframe. \n",
    "\n",
    "We want to find the values of:\n",
    "- Mean of each major's percentage within all counties\n",
    "- Median of each major's percentage within all counties\n",
    "- Mean of each major's percentage within all counties for each age\n",
    "- Median of each major's percentage within all counties for each age\n",
    "\n",
    "We want to display contextual visualizations to demonstrate:\n",
    "- Each county's per capita income\n",
    "- A comparison of counties' science and engineering majors percentage for all ages\n",
    "- A comparison of counties' science and engineering related majors percentage for all ages\n",
    "- A comparison of counties' business majors percentage for all ages\n",
    "- A comparison of counties' education majors percentage for all ages\n",
    "- A comparison of counties' arts, humanities, and others majors percentage for all ages"
   ]
  },
  {
   "cell_type": "markdown",
   "id": "f325956f",
   "metadata": {},
   "source": [
    "Begin with the mean and median values for ageless_merged_df:"
   ]
  },
  {
   "cell_type": "code",
   "execution_count": null,
   "id": "43ba8394",
   "metadata": {},
   "outputs": [],
   "source": [
    "print('Mean of Science and Engineering percentage within all counties: ' +\n",
    "str(np.round(np.mean(ageless_merged_df['Science and Engineering']),2)))\n",
    "print(\n",
    "'Mean of Science and Engineering Related Fields percentage within all counties: ' \n",
    "+ str(np.round(np.mean(ageless_merged_df[\n",
    "    'Science and Engineering Related Fields']),2)))\n",
    "print('Mean of Business percentage within all counties: ' + \n",
    "str(np.round(np.mean(ageless_merged_df['Business']),2)))\n",
    "print('Mean of Education percentage within all counties: ' + \n",
    "str(np.round(np.mean(ageless_merged_df['Education']),2)))\n",
    "print('Mean of Arts, Humanities and Others percentage within all counties: ' + \n",
    "str(np.round(np.mean(ageless_merged_df['Arts, Humanities and Others']),2)))"
   ]
  },
  {
   "cell_type": "code",
   "execution_count": null,
   "id": "cd55a4dc",
   "metadata": {
    "scrolled": true
   },
   "outputs": [],
   "source": [
    "print('Median of Science and Engineering percentage within all counties: ' + \n",
    "str(np.round(np.median(ageless_merged_df['Science and Engineering']),2)))\n",
    "print('Median of Science and Engineering Related Fields percentage within all counties: ' \n",
    "+ str(np.round(np.median(ageless_merged_df['Science and Engineering Related Fields']),2)))\n",
    "print('Median of Business percentage within all counties: ' + \n",
    "str(np.round(np.median(ageless_merged_df['Business']),2)))\n",
    "print('Median of Education percentage within all counties: ' +\n",
    "str(np.round(np.median(ageless_merged_df['Education']),2)))\n",
    "print('Median of Arts, Humanities and Others percentage within all counties: ' + \n",
    "str(np.round(np.median(ageless_merged_df['Arts, Humanities and Others']),2)))"
   ]
  },
  {
   "cell_type": "markdown",
   "id": "e75e6f98",
   "metadata": {},
   "source": [
    "Now the mean and median for each age range: "
   ]
  },
  {
   "cell_type": "markdown",
   "id": "c13b8fe5",
   "metadata": {},
   "source": [
    "For young_merged_df (ages 25-39):"
   ]
  },
  {
   "cell_type": "code",
   "execution_count": null,
   "id": "14000478",
   "metadata": {},
   "outputs": [],
   "source": [
    "print('Mean of Science and Engineering percentage within all counties (ages 25-39): '\n",
    "+ str(np.round(np.mean(young_merged_df['Science and Engineering']),2)))\n",
    "print('Mean of Science and Engineering Related Fields percentage within all counties (ages 25-39): ' \n",
    "+ str(np.round(np.mean(young_merged_df['Science and Engineering Related Fields']),2)))\n",
    "print('Mean of Business percentage within all counties (ages 25-39): ' + \n",
    "str(np.round(np.mean(young_merged_df['Business']),2)))\n",
    "print('Mean of Education percentage within all counties (ages 25-39): ' + \n",
    "str(np.round(np.mean(young_merged_df['Education']),2)))\n",
    "print('Mean of Arts, Humanities and Others percentage within all counties (ages 25-39): ' + \n",
    "str(np.round(np.mean(young_merged_df['Arts, Humanities and Others']),2)))"
   ]
  },
  {
   "cell_type": "code",
   "execution_count": null,
   "id": "f2e16f1e",
   "metadata": {},
   "outputs": [],
   "source": [
    "print('Median of Science and Engineering percentage within all counties (ages 25-39): ' \n",
    "+ str(np.round(np.median(young_merged_df['Science and Engineering']),2)))\n",
    "print('Median of Science and Engineering Related Fields percentage within all counties (ages 25-39): ' \n",
    "+ str(np.round(np.median(young_merged_df['Science and Engineering Related Fields']),2)))\n",
    "print('Median of Business percentage within all counties (ages 25-39): ' \n",
    "+ str(np.round(np.median(young_merged_df['Business']),2)))\n",
    "print('Median of Education percentage within all counties (ages 25-39): '\n",
    "+ str(np.round(np.median(young_merged_df['Education']),2)))\n",
    "print('Median of Arts, Humanities and Others percentage within all counties (ages 25-39): '\n",
    "+ str(np.round(np.median(young_merged_df['Arts, Humanities and Others']),2)))"
   ]
  },
  {
   "cell_type": "markdown",
   "id": "a86a4db7",
   "metadata": {},
   "source": [
    "For middle_merged_df (ages 40-64):"
   ]
  },
  {
   "cell_type": "code",
   "execution_count": null,
   "id": "ae67e4e2",
   "metadata": {},
   "outputs": [],
   "source": [
    "print('Mean of Science and Engineering percentage within all counties (ages 40-64): ' + \n",
    "str(np.round(np.mean(middle_merged_df['Science and Engineering']),2)))\n",
    "print('Mean of Science and Engineering Related Fields percentage within all counties (ages 40-64): ' \n",
    "+ str(np.round(np.mean(middle_merged_df['Science and Engineering Related Fields']),2)))\n",
    "print('Mean of Business percentage within all counties (ages 40-64): ' \n",
    "+ str(np.round(np.mean(middle_merged_df['Business']),2)))\n",
    "print('Mean of Education percentage within all counties (ages 40-64): ' \n",
    "+ str(np.round(np.mean(middle_merged_df['Education']),2)))\n",
    "print('Mean of Arts, Humanities and Others percentage within all counties (ages 40-64): ' \n",
    "+ str(np.round(np.mean(middle_merged_df['Arts, Humanities and Others']),2)))"
   ]
  },
  {
   "cell_type": "code",
   "execution_count": null,
   "id": "d455f08e",
   "metadata": {},
   "outputs": [],
   "source": [
    "print('Median of Science and Engineering percentage within all counties (ages 40-64): ' \n",
    "+ str(np.round(np.median(middle_merged_df['Science and Engineering']),2)))\n",
    "print('Median of Science and Engineering Related Fields percentage within all counties (ages 40-64): ' \n",
    "+ str(np.round(np.median(middle_merged_df['Science and Engineering Related Fields']),2)))\n",
    "print('Median of Business percentage within all counties (ages 40-64): ' \n",
    "+ str(np.round(np.median(middle_merged_df['Business']),2)))\n",
    "print('Median of Education percentage within all counties (ages 40-64): '\n",
    "+ str(np.round(np.median(middle_merged_df['Education']),2)))\n",
    "print('Median of Arts, Humanities and Others percentage within all counties (ages 40-64): ' \n",
    "+ str(np.round(np.median(middle_merged_df['Arts, Humanities and Others']),2)))"
   ]
  },
  {
   "cell_type": "markdown",
   "id": "5c80191f",
   "metadata": {},
   "source": [
    "For old_merged_df (ages 65+):"
   ]
  },
  {
   "cell_type": "code",
   "execution_count": null,
   "id": "dc26e215",
   "metadata": {},
   "outputs": [],
   "source": [
    "print('Mean of Science and Engineering percentage within all counties (ages 65+): ' \n",
    "+ str(np.round(np.mean(old_merged_df['Science and Engineering']),2)))\n",
    "print('Mean of Science and Engineering Related Fields percentage within all counties (ages 65+): ' \n",
    "+ str(np.round(np.mean(old_merged_df['Science and Engineering Related Fields']),2)))\n",
    "print('Mean of Business percentage within all counties (ages 65+): ' \n",
    "+ str(np.round(np.mean(old_merged_df['Business']),2)))\n",
    "print('Mean of Education percentage within all counties (ages 65+): ' \n",
    "+ str(np.round(np.mean(old_merged_df['Education']),2)))\n",
    "print('Mean of Arts, Humanities and Others percentage within all counties (ages 65+): ' \n",
    "+ str(np.round(np.mean(old_merged_df['Arts, Humanities and Others']),2)))"
   ]
  },
  {
   "cell_type": "markdown",
   "id": "4f13e5f7",
   "metadata": {},
   "source": [
    "Start by displaying per capita income for each county (ranked) to understand the general differences between the rankings"
   ]
  },
  {
   "cell_type": "code",
   "execution_count": null,
   "id": "43e60f57",
   "metadata": {
    "scrolled": true
   },
   "outputs": [],
   "source": [
    "#display general trend of each county (ranked by per capita income) \n",
    "#vs. their per capita income\n",
    "general_graph = plt.plot(ageless_merged_df['County'], \n",
    "                         ageless_merged_df['Per capita income'])\n",
    "plt.title(\"NYS Counties' per capita income\")\n",
    "plt.xlabel(\"County name, ranked by per capita income\")\n",
    "plt.ylabel(\"Per capita income ($)\")\n",
    "plt.xticks(rotation=85)\n",
    "display(general_graph)"
   ]
  },
  {
   "cell_type": "markdown",
   "id": "5411c8f0",
   "metadata": {},
   "source": [
    "Now we will display each county's percentage of Science and Engineering majors relative to the other counties:"
   ]
  },
  {
   "cell_type": "code",
   "execution_count": null,
   "id": "5e8f94a9",
   "metadata": {},
   "outputs": [],
   "source": [
    "science_engineering_barplot_ageless = sns.barplot(\n",
    "    ageless_merged_df, x=\"County\", y=\"Science and Engineering\")\n",
    "science_engineering_barplot_ageless.set_xticklabels(\n",
    "    ageless_merged_df['County'],rotation=85)\n",
    "science_engineering_barplot_ageless.set(\n",
    "    xlabel=\"County name, ranked by per capita income\", \n",
    "    ylabel='Percentage of Science and Engineering', \n",
    "    title='Percentage of Science and Engineering majors for each county')\n",
    "display(science_engineering_barplot_ageless)"
   ]
  },
  {
   "cell_type": "markdown",
   "id": "7e50dd67",
   "metadata": {},
   "source": [
    "Now we will display each county's percentage of Science and Engineering Related Fields majors relative to the other counties:"
   ]
  },
  {
   "cell_type": "code",
   "execution_count": null,
   "id": "296c5900",
   "metadata": {
    "scrolled": true
   },
   "outputs": [],
   "source": [
    "science_engineering_barplot_ageless = sns.barplot(\n",
    "    ageless_merged_df, x=\"County\", \n",
    "    y=\"Science and Engineering Related Fields\")\n",
    "science_engineering_barplot_ageless.set_xticklabels(\n",
    "    ageless_merged_df['County'],rotation=85)\n",
    "science_engineering_barplot_ageless.set(\n",
    "    xlabel=\"County name, ranked by per capita income\", \n",
    "    ylabel='Percentage of Science and Engineering Related Fields', \n",
    "    title='Percentage of Science and Engineering Related Fields majors for each county')\n",
    "display(science_engineering_barplot_ageless)"
   ]
  },
  {
   "cell_type": "markdown",
   "id": "b3391c52",
   "metadata": {},
   "source": [
    "Now we will display each county's percentage of Business majors relative to the other counties:"
   ]
  },
  {
   "cell_type": "code",
   "execution_count": null,
   "id": "85c72a1d",
   "metadata": {},
   "outputs": [],
   "source": [
    "science_engineering_barplot_ageless = sns.barplot(\n",
    "    ageless_merged_df, x=\"County\", y=\"Business\")\n",
    "science_engineering_barplot_ageless.set_xticklabels(\n",
    "    ageless_merged_df['County'],rotation=85)\n",
    "science_engineering_barplot_ageless.set(\n",
    "    xlabel=\"County name, ranked by per capita income\", \n",
    "    ylabel='Percentage of Business', \n",
    "    title='Percentage of Business majors for each county')\n",
    "display(science_engineering_barplot_ageless)"
   ]
  },
  {
   "cell_type": "markdown",
   "id": "7a3c7833",
   "metadata": {},
   "source": [
    "Now we will display each county's percentage of Education majors relative to the other counties:"
   ]
  },
  {
   "cell_type": "code",
   "execution_count": null,
   "id": "e4954622",
   "metadata": {},
   "outputs": [],
   "source": [
    "science_engineering_barplot_ageless = sns.barplot(\n",
    "    ageless_merged_df, x=\"County\", y=\"Education\")\n",
    "science_engineering_barplot_ageless.set_xticklabels(\n",
    "    ageless_merged_df['County'],rotation=85)\n",
    "science_engineering_barplot_ageless.set(\n",
    "    xlabel=\"County name, ranked by per capita income\", \n",
    "    ylabel='Percentage of Education', \n",
    "    title='Percentage of Education majors for each county')\n",
    "display(science_engineering_barplot_ageless)"
   ]
  },
  {
   "cell_type": "markdown",
   "id": "96384395",
   "metadata": {},
   "source": [
    "Now we will display each county's percentage of Arts, Humanities and Others majors relative to the other counties:"
   ]
  },
  {
   "cell_type": "code",
   "execution_count": null,
   "id": "ee79e6f3",
   "metadata": {},
   "outputs": [],
   "source": [
    "science_engineering_barplot_ageless = sns.barplot(\n",
    "ageless_merged_df, x=\"County\", y=\"Arts, Humanities and Others\")\n",
    "science_engineering_barplot_ageless.set_xticklabels(\n",
    "    ageless_merged_df['County'],rotation=85)\n",
    "science_engineering_barplot_ageless.set(\n",
    "    xlabel=\"County name, ranked by per capita income\", \n",
    "    ylabel='Percentage of Arts, Humanities and Others', \n",
    "    title='Percentage of Arts, Humanities and Others majors for each county')\n",
    "display(science_engineering_barplot_ageless)"
   ]
  },
  {
   "cell_type": "markdown",
   "id": "2f9958c1",
   "metadata": {},
   "source": [
    "## Data Description of Analysis-Ready data"
   ]
  },
  {
   "cell_type": "markdown",
   "id": "6c394e56",
   "metadata": {},
   "source": [
    "- What are the observations (rows) and the attributes (columns)?\n",
    "    - For the ageless_merged_df dataframe, it has 37 rows and 7 columns. Each row is a county (they are ranked by per capita income) and the first column is the county name. The rest of the columns are each group / category of college major. The values in those columns are the percentage of the specific major in a specific county.\n",
    "    - For the young_merged_df dataframe, it has 37 rows and 7 rows, all of which are the same as the ageless_merged_df dataframe, but only pertaining to the values for participants who were between the ages of 25 and 39.\n",
    "    - For the middle_merged_df dataframe, it has 37 rows and 7 rows, all of which are the same as the ageless_merged_df dataframe, but only pertaining to the values for participants who were between the ages of 40 and 64.\n",
    "    - For the old_merged_df dataframe, it has 37 rows and 7 rows, all of which are the same as the ageless_merged_df dataframe, but only pertaining to the values for participants who were 65 years old and older.\n",
    "- What preprocessing was done, and how did the data come to be in the form that you are using?\n",
    "    - We had to grab the columns from the census data that we were interested in; originally, the data had a lot of columns unrelated to the major percentage of each county. We also had to convert many string columns into floats and ints, as the % signs and the commas in the data we extracted from the Census and Wikepedia both had numerical values in the form of a string. We also had to change the names of many columns because they had unnecessarily long and verbose names, including the County names. With our cleaned data, we divided that one big dataframe into three dataframes, each one representing one age group. We merged the Wikepedia data and the big cleaned Census data we had into one. We then merged the Wikepedia dataframe with each of the three smaller dataframes for each age group. We split it into age-specific dataframes because we wanted to view the data in both an age-specific context and an age-blind context.\n",
    "- What do the instances that comprise the dataset represent?\n",
    "    - The data in the major-name columns represent the percentage of people in that county who reported their major as being within that category of majors.\n",
    "    - The data in the county name columns represents the county being measured."
   ]
  },
  {
   "cell_type": "markdown",
   "id": "63479f6b",
   "metadata": {},
   "source": [
    "## Preregistration Hypotheses"
   ]
  },
  {
   "cell_type": "markdown",
   "id": "f34f9eac",
   "metadata": {},
   "source": [
    "- Hypothesis 1: Do counties with more business majors than any other major tend to be richer than counties with a lower percentage of business majors? \n",
    "\n",
    "- $H_0$: Counties with more business majors than any other major do not have a significant difference in wealth compared to counties with a lower percentages of business majors.\n",
    "- $H_A$: Counties with more business majors than any other major do have a significant difference in wealth compared to counties with a lower percentages of business majors.\n",
    "\n",
    "We seek to determine whether a correlation exists between college major and the wealth of a graduate's county of residency. Majoring in business typically involves positions in finance, an industry that is assumed to be profitable and lucrative. By specifically investigating a potential relationship between business major percentage and a county's wealth, we can support or counter this assumption.\n",
    "\n",
    "Using a linear regression, we will input business major percentage as a variable and output county wealth. We will use this model to determine the correlation coefficient between the input and the output. We will also create visual graphs to display the potential relationship between the input and the output.\n",
    "\n",
    "- Hypothesis 2: Are science and engineering majors more likely to reside in a county with a high per capita income? \n",
    "\n",
    "- $H_0$: Science and engineering majors are equally as likely as other majors to reside in a county with a high per capita income.\n",
    "- $H_A$: Science and engineering majors are significantly more likely than other majors to reside in a county with a high per capita income.\n",
    "\n",
    "Similar to business, science and engineering professions have been increasingly viewed as profitable due to the rise of the technology industry. We seek to determine whether a relationship exists between science and engineering majors and the wealth of the county in which they reside in. By determining the existence of such a relationship, we can either reinforce or contradict this assumption with evidence.\n",
    "\n",
    "Similar to the previous hypothesis, we will use a linear regression to determine the correlation coefficient between the input and the output. We will also display visuals to determine the distribution of the data."
   ]
  },
  {
   "cell_type": "markdown",
   "id": "396186a8",
   "metadata": {},
   "source": [
    "## Hypothesis 1"
   ]
  },
  {
   "cell_type": "markdown",
   "id": "54c002e0",
   "metadata": {},
   "source": [
    "Below, we are isolating the relevant columns of our dataframe (the Per Capita Income and Business columns of ageless_merged_df) and fitting a regression to it."
   ]
  },
  {
   "cell_type": "code",
   "execution_count": null,
   "id": "09df69eb",
   "metadata": {},
   "outputs": [],
   "source": [
    "hyp1_df = ageless_merged_df['Per capita income', 'Business']\n",
    "display(hyp1_df)"
   ]
  },
  {
   "cell_type": "markdown",
   "id": "69b9b4b6",
   "metadata": {},
   "source": [
    "## Data Limitations"
   ]
  },
  {
   "cell_type": "markdown",
   "id": "ce029e2b",
   "metadata": {},
   "source": [
    "- The Census data is limited in that it is essentially a large sample, as it does not cover the entire population, and typically, more vulnerable groups are not represented. \n",
    "- This data and any findings from it cannot be generalized to any region outside New York State, as the only counties considered are New York State counties. Especially considering that the state has one of the biggest and most wealthy cities in the world, this is unlikely to be validly mapped to another region. In the same regard, the universities of New York residents are most likely composed of disproportionately more in-state colleges compared to other states, yet another reason to not generalize this data outside of New York. \n",
    "- Another limitation is that the Census lumps together a broad variety of majors into \"STEM\", \"Humanities\", etc. which may result in a lack of consideration of certain outliers within those major-groups. For example, Psychology may be considered STEM, but it may not follow the same trends as a Computer Science major.\n",
    "- Another limitation is that the Wikepedia data is outdated by 13 years, as its most recent data is from 2010. This may be an issue because our Census data is much more recent."
   ]
  }
 ],
 "metadata": {
  "kernelspec": {
   "display_name": "Python 3 (ipykernel)",
   "language": "python",
   "name": "python3"
  },
  "language_info": {
   "codemirror_mode": {
    "name": "ipython",
    "version": 3
   },
   "file_extension": ".py",
   "mimetype": "text/x-python",
   "name": "python",
   "nbconvert_exporter": "python",
   "pygments_lexer": "ipython3",
   "version": "3.11.4"
  }
 },
 "nbformat": 4,
 "nbformat_minor": 5
}
